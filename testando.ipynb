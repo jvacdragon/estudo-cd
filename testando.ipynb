{
 "cells": [
  {
   "cell_type": "code",
   "execution_count": 99,
   "metadata": {},
   "outputs": [
    {
     "name": "stdout",
     "output_type": "stream",
     "text": [
      "testando no vscode 10\n"
     ]
    }
   ],
   "source": [
    "t = 10\n",
    "print('testando no vscode', t)"
   ]
  },
  {
   "cell_type": "code",
   "execution_count": 100,
   "metadata": {},
   "outputs": [
    {
     "name": "stdout",
     "output_type": "stream",
     "text": [
      "1\n",
      "4\n",
      "7\n"
     ]
    }
   ],
   "source": [
    "for n in range(1,11,3):\n",
    "    if(n>8):\n",
    "        break\n",
    "    print(n)"
   ]
  },
  {
   "cell_type": "code",
   "execution_count": 101,
   "metadata": {},
   "outputs": [
    {
     "name": "stdout",
     "output_type": "stream",
     "text": [
      "1\n",
      "2\n",
      "3\n",
      "testando\n",
      "mais um\n",
      "6\n"
     ]
    }
   ],
   "source": [
    "lista = [1,2,3,\"testando\", \"mais um\", 6]\n",
    "for n in lista:\n",
    "    print(n)"
   ]
  },
  {
   "cell_type": "code",
   "execution_count": 102,
   "metadata": {},
   "outputs": [
    {
     "name": "stdout",
     "output_type": "stream",
     "text": [
      "valor1\n",
      "2\n",
      "dict_keys(['chave1', 'outraChave'])\n",
      "dict_values(['valor1', 2])\n",
      "dict_items([('chave1', 'valor1'), ('outraChave', 2)])\n"
     ]
    }
   ],
   "source": [
    "dictionary = {'chave1': \"valor1\", 'outraChave':2}\n",
    "for n in dictionary:\n",
    "    print(dictionary.get(n))\n",
    "print(dictionary.keys())\n",
    "print(dictionary.values())\n",
    "print(dictionary.items())"
   ]
  },
  {
   "cell_type": "code",
   "execution_count": 103,
   "metadata": {},
   "outputs": [
    {
     "name": "stdout",
     "output_type": "stream",
     "text": [
      "{'test', 'teste2'}\n",
      "test\n",
      "teste2\n"
     ]
    },
    {
     "ename": "TypeError",
     "evalue": "'set' object is not subscriptable",
     "output_type": "error",
     "traceback": [
      "\u001b[1;31m---------------------------------------------------------------------------\u001b[0m",
      "\u001b[1;31mTypeError\u001b[0m                                 Traceback (most recent call last)",
      "Cell \u001b[1;32mIn[103], line 5\u001b[0m\n\u001b[0;32m      3\u001b[0m \u001b[38;5;28;01mfor\u001b[39;00m n \u001b[38;5;129;01min\u001b[39;00m setTeste:\n\u001b[0;32m      4\u001b[0m     \u001b[38;5;28mprint\u001b[39m(n)\n\u001b[1;32m----> 5\u001b[0m \u001b[38;5;28mprint\u001b[39m(setTeste[\u001b[38;5;241m0\u001b[39m])\n",
      "\u001b[1;31mTypeError\u001b[0m: 'set' object is not subscriptable"
     ]
    }
   ],
   "source": [
    "setTeste = {'test', 'test', 'teste2'}\n",
    "print(setTeste)\n",
    "for n in setTeste:\n",
    "    print(n)"
   ]
  }
 ],
 "metadata": {
  "kernelspec": {
   "display_name": "base",
   "language": "python",
   "name": "python3"
  },
  "language_info": {
   "codemirror_mode": {
    "name": "ipython",
    "version": 3
   },
   "file_extension": ".py",
   "mimetype": "text/x-python",
   "name": "python",
   "nbconvert_exporter": "python",
   "pygments_lexer": "ipython3",
   "version": "3.12.4"
  }
 },
 "nbformat": 4,
 "nbformat_minor": 2
}
