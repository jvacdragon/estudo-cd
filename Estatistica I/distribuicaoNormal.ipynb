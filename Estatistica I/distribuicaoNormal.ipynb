{
 "cells": [
  {
   "cell_type": "code",
   "execution_count": 44,
   "metadata": {},
   "outputs": [
    {
     "data": {
      "text/plain": [
       "0.15865525393145707"
      ]
     },
     "execution_count": 44,
     "metadata": {},
     "output_type": "execute_result"
    }
   ],
   "source": [
    "import scipy as sc\n",
    "\n",
    "#probabilidade de em uma distribuição padrão de média 8 e desvio padrão de 2, de tirar um numero menor que 6\n",
    "sc.stats.norm.cdf(6,8,2)"
   ]
  },
  {
   "cell_type": "code",
   "execution_count": 45,
   "metadata": {},
   "outputs": [
    {
     "data": {
      "text/plain": [
       "0.8413447460685429"
      ]
     },
     "execution_count": 45,
     "metadata": {},
     "output_type": "execute_result"
    }
   ],
   "source": [
    "#probabilidade de em uma distribuição padrão de média 8 e desvio padrão de 2, de tirar um numero maior que 6\n",
    "sc.stats.norm.sf(6,8,2)"
   ]
  },
  {
   "cell_type": "code",
   "execution_count": 46,
   "metadata": {},
   "outputs": [
    {
     "data": {
      "text/plain": [
       "0.8413447460685429"
      ]
     },
     "execution_count": 46,
     "metadata": {},
     "output_type": "execute_result"
    }
   ],
   "source": [
    "#probabilidade de em uma distribuição padrão de média 8 e desvio padrão de 2, de tirar um numero menor que 10\n",
    "sc.stats.norm.cdf(10,8,2)"
   ]
  },
  {
   "cell_type": "code",
   "execution_count": 47,
   "metadata": {},
   "outputs": [
    {
     "data": {
      "text/plain": [
       "0.15865525393145707"
      ]
     },
     "execution_count": 47,
     "metadata": {},
     "output_type": "execute_result"
    }
   ],
   "source": [
    "#probabilidade de em uma distribuição padrão de média 8 e desvio padrão de 2, de tirar um numero maior que 10\n",
    "sc.stats.norm.sf(10,8,2)"
   ]
  },
  {
   "cell_type": "code",
   "execution_count": 48,
   "metadata": {},
   "outputs": [
    {
     "data": {
      "text/plain": [
       "0.3413447460685429"
      ]
     },
     "execution_count": 48,
     "metadata": {},
     "output_type": "execute_result"
    }
   ],
   "source": [
    "#probabilidade de em uma distribuição padrão de média 8 e desvio padrão de 2, de tirar um numero maior que 8 e menor que 10\n",
    "sc.stats.norm.cdf(10,8,2) - sc.stats.norm.sf(8,8,2)"
   ]
  }
 ],
 "metadata": {
  "kernelspec": {
   "display_name": "base",
   "language": "python",
   "name": "python3"
  },
  "language_info": {
   "codemirror_mode": {
    "name": "ipython",
    "version": 3
   },
   "file_extension": ".py",
   "mimetype": "text/x-python",
   "name": "python",
   "nbconvert_exporter": "python",
   "pygments_lexer": "ipython3",
   "version": "3.12.4"
  }
 },
 "nbformat": 4,
 "nbformat_minor": 2
}
